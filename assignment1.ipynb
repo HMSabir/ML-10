{
 "cells": [
  {
   "cell_type": "code",
   "execution_count": 1,
   "id": "53d2d6df",
   "metadata": {},
   "outputs": [],
   "source": [
    "import pandas as pd\n",
    "import numpy as np\n",
    "import matplotlib.pyplot as plt"
   ]
  },
  {
   "cell_type": "code",
   "execution_count": 2,
   "id": "c157817b",
   "metadata": {},
   "outputs": [],
   "source": [
    "df= pd.read_csv('Height-Weight Data.csv')"
   ]
  },
  {
   "cell_type": "code",
   "execution_count": 3,
   "id": "9987d9f1",
   "metadata": {},
   "outputs": [
    {
     "data": {
      "text/html": [
       "<div>\n",
       "<style scoped>\n",
       "    .dataframe tbody tr th:only-of-type {\n",
       "        vertical-align: middle;\n",
       "    }\n",
       "\n",
       "    .dataframe tbody tr th {\n",
       "        vertical-align: top;\n",
       "    }\n",
       "\n",
       "    .dataframe thead th {\n",
       "        text-align: right;\n",
       "    }\n",
       "</style>\n",
       "<table border=\"1\" class=\"dataframe\">\n",
       "  <thead>\n",
       "    <tr style=\"text-align: right;\">\n",
       "      <th></th>\n",
       "      <th>Height</th>\n",
       "      <th>Weight</th>\n",
       "    </tr>\n",
       "  </thead>\n",
       "  <tbody>\n",
       "    <tr>\n",
       "      <th>0</th>\n",
       "      <td>73.847017</td>\n",
       "      <td>241.893563</td>\n",
       "    </tr>\n",
       "    <tr>\n",
       "      <th>1</th>\n",
       "      <td>68.781904</td>\n",
       "      <td>162.310473</td>\n",
       "    </tr>\n",
       "    <tr>\n",
       "      <th>2</th>\n",
       "      <td>74.110105</td>\n",
       "      <td>212.740856</td>\n",
       "    </tr>\n",
       "    <tr>\n",
       "      <th>3</th>\n",
       "      <td>71.730978</td>\n",
       "      <td>220.042470</td>\n",
       "    </tr>\n",
       "    <tr>\n",
       "      <th>4</th>\n",
       "      <td>69.881796</td>\n",
       "      <td>206.349801</td>\n",
       "    </tr>\n",
       "  </tbody>\n",
       "</table>\n",
       "</div>"
      ],
      "text/plain": [
       "      Height      Weight\n",
       "0  73.847017  241.893563\n",
       "1  68.781904  162.310473\n",
       "2  74.110105  212.740856\n",
       "3  71.730978  220.042470\n",
       "4  69.881796  206.349801"
      ]
     },
     "execution_count": 3,
     "metadata": {},
     "output_type": "execute_result"
    }
   ],
   "source": [
    "df.head()"
   ]
  },
  {
   "cell_type": "code",
   "execution_count": 4,
   "id": "ba22e52c",
   "metadata": {},
   "outputs": [
    {
     "data": {
      "text/plain": [
       "(3501, 2)"
      ]
     },
     "execution_count": 4,
     "metadata": {},
     "output_type": "execute_result"
    }
   ],
   "source": [
    "df.shape"
   ]
  },
  {
   "cell_type": "code",
   "execution_count": 5,
   "id": "68fb6197",
   "metadata": {},
   "outputs": [
    {
     "name": "stdout",
     "output_type": "stream",
     "text": [
      "<class 'pandas.core.frame.DataFrame'>\n",
      "RangeIndex: 3501 entries, 0 to 3500\n",
      "Data columns (total 2 columns):\n",
      " #   Column  Non-Null Count  Dtype  \n",
      "---  ------  --------------  -----  \n",
      " 0   Height  3501 non-null   float64\n",
      " 1   Weight  3501 non-null   float64\n",
      "dtypes: float64(2)\n",
      "memory usage: 54.8 KB\n"
     ]
    }
   ],
   "source": [
    "df.info()"
   ]
  },
  {
   "cell_type": "code",
   "execution_count": 6,
   "id": "4860bca0",
   "metadata": {},
   "outputs": [
    {
     "data": {
      "text/html": [
       "<div>\n",
       "<style scoped>\n",
       "    .dataframe tbody tr th:only-of-type {\n",
       "        vertical-align: middle;\n",
       "    }\n",
       "\n",
       "    .dataframe tbody tr th {\n",
       "        vertical-align: top;\n",
       "    }\n",
       "\n",
       "    .dataframe thead th {\n",
       "        text-align: right;\n",
       "    }\n",
       "</style>\n",
       "<table border=\"1\" class=\"dataframe\">\n",
       "  <thead>\n",
       "    <tr style=\"text-align: right;\">\n",
       "      <th></th>\n",
       "      <th>Height</th>\n",
       "      <th>Weight</th>\n",
       "    </tr>\n",
       "  </thead>\n",
       "  <tbody>\n",
       "    <tr>\n",
       "      <th>count</th>\n",
       "      <td>3501.000000</td>\n",
       "      <td>3501.000000</td>\n",
       "    </tr>\n",
       "    <tr>\n",
       "      <th>mean</th>\n",
       "      <td>69.024411</td>\n",
       "      <td>186.891258</td>\n",
       "    </tr>\n",
       "    <tr>\n",
       "      <th>std</th>\n",
       "      <td>2.858583</td>\n",
       "      <td>19.903132</td>\n",
       "    </tr>\n",
       "    <tr>\n",
       "      <th>min</th>\n",
       "      <td>59.380650</td>\n",
       "      <td>65.780000</td>\n",
       "    </tr>\n",
       "    <tr>\n",
       "      <th>25%</th>\n",
       "      <td>67.193523</td>\n",
       "      <td>173.896237</td>\n",
       "    </tr>\n",
       "    <tr>\n",
       "      <th>50%</th>\n",
       "      <td>69.044211</td>\n",
       "      <td>187.308370</td>\n",
       "    </tr>\n",
       "    <tr>\n",
       "      <th>75%</th>\n",
       "      <td>70.976491</td>\n",
       "      <td>200.356448</td>\n",
       "    </tr>\n",
       "    <tr>\n",
       "      <th>max</th>\n",
       "      <td>78.998742</td>\n",
       "      <td>269.989698</td>\n",
       "    </tr>\n",
       "  </tbody>\n",
       "</table>\n",
       "</div>"
      ],
      "text/plain": [
       "            Height       Weight\n",
       "count  3501.000000  3501.000000\n",
       "mean     69.024411   186.891258\n",
       "std       2.858583    19.903132\n",
       "min      59.380650    65.780000\n",
       "25%      67.193523   173.896237\n",
       "50%      69.044211   187.308370\n",
       "75%      70.976491   200.356448\n",
       "max      78.998742   269.989698"
      ]
     },
     "execution_count": 6,
     "metadata": {},
     "output_type": "execute_result"
    }
   ],
   "source": [
    "df.describe()"
   ]
  },
  {
   "cell_type": "code",
   "execution_count": 7,
   "id": "50fdb710",
   "metadata": {},
   "outputs": [
    {
     "data": {
      "text/plain": [
       "Text(0, 0.5, 'Weight')"
      ]
     },
     "execution_count": 7,
     "metadata": {},
     "output_type": "execute_result"
    },
    {
     "data": {
      "image/png": "[encoded data removed]",
      "text/plain": [
       "<Figure size 432x288 with 1 Axes>"
      ]
     },
     "metadata": {
      "needs_background": "light"
     },
     "output_type": "display_data"
    }
   ],
   "source": [
    "plt.scatter(df[['Height']], df['Weight'], marker='+')\n",
    "plt.title('Height vs Weight')\n",
    "plt.xlabel('Height')\n",
    "plt.ylabel('Weight')"
   ]
  },
  {
   "cell_type": "code",
   "execution_count": 8,
   "id": "cb9eecfc",
   "metadata": {},
   "outputs": [],
   "source": [
    "x= df[['Height']]\n",
    "y= df['Weight']"
   ]
  },
  {
   "cell_type": "code",
   "execution_count": 9,
   "id": "2d114101",
   "metadata": {},
   "outputs": [],
   "source": [
    "from sklearn.model_selection import train_test_split as tts"
   ]
  },
  {
   "cell_type": "code",
   "execution_count": 10,
   "id": "91531fee",
   "metadata": {},
   "outputs": [],
   "source": [
    "xtrain, xtest, ytrain, ytest= tts(x,y,train_size=.80,random_state=1) "
   ]
  },
  {
   "cell_type": "code",
   "execution_count": 11,
   "id": "89d347a3",
   "metadata": {},
   "outputs": [
    {
     "data": {
      "text/plain": [
       "(2800, 1)"
      ]
     },
     "execution_count": 11,
     "metadata": {},
     "output_type": "execute_result"
    }
   ],
   "source": [
    "xtrain.shape"
   ]
  },
  {
   "cell_type": "code",
   "execution_count": 12,
   "id": "42307a47",
   "metadata": {},
   "outputs": [
    {
     "data": {
      "text/html": [
       "<div>\n",
       "<style scoped>\n",
       "    .dataframe tbody tr th:only-of-type {\n",
       "        vertical-align: middle;\n",
       "    }\n",
       "\n",
       "    .dataframe tbody tr th {\n",
       "        vertical-align: top;\n",
       "    }\n",
       "\n",
       "    .dataframe thead th {\n",
       "        text-align: right;\n",
       "    }\n",
       "</style>\n",
       "<table border=\"1\" class=\"dataframe\">\n",
       "  <thead>\n",
       "    <tr style=\"text-align: right;\">\n",
       "      <th></th>\n",
       "      <th>Height</th>\n",
       "    </tr>\n",
       "  </thead>\n",
       "  <tbody>\n",
       "    <tr>\n",
       "      <th>3246</th>\n",
       "      <td>69.575891</td>\n",
       "    </tr>\n",
       "    <tr>\n",
       "      <th>2118</th>\n",
       "      <td>63.992899</td>\n",
       "    </tr>\n",
       "    <tr>\n",
       "      <th>2583</th>\n",
       "      <td>67.174715</td>\n",
       "    </tr>\n",
       "    <tr>\n",
       "      <th>432</th>\n",
       "      <td>68.921041</td>\n",
       "    </tr>\n",
       "    <tr>\n",
       "      <th>1724</th>\n",
       "      <td>67.140186</td>\n",
       "    </tr>\n",
       "  </tbody>\n",
       "</table>\n",
       "</div>"
      ],
      "text/plain": [
       "         Height\n",
       "3246  69.575891\n",
       "2118  63.992899\n",
       "2583  67.174715\n",
       "432   68.921041\n",
       "1724  67.140186"
      ]
     },
     "execution_count": 12,
     "metadata": {},
     "output_type": "execute_result"
    }
   ],
   "source": [
    "xtrain.head()"
   ]
  },
  {
   "cell_type": "code",
   "execution_count": 13,
   "id": "c2c275a8",
   "metadata": {},
   "outputs": [
    {
     "data": {
      "text/plain": [
       "3246    206.600442\n",
       "2118    154.963174\n",
       "2583    178.674938\n",
       "432     188.328807\n",
       "1724    188.848499\n",
       "Name: Weight, dtype: float64"
      ]
     },
     "execution_count": 13,
     "metadata": {},
     "output_type": "execute_result"
    }
   ],
   "source": [
    "ytrain.head()"
   ]
  },
  {
   "cell_type": "code",
   "execution_count": 14,
   "id": "f650b30d",
   "metadata": {},
   "outputs": [
    {
     "data": {
      "text/plain": [
       "LinearRegression()"
      ]
     },
     "execution_count": 14,
     "metadata": {},
     "output_type": "execute_result"
    }
   ],
   "source": [
    "from sklearn.linear_model import LinearRegression\n",
    "lr= LinearRegression() #creating object for linear_model\n",
    "lr.fit(xtrain, ytrain) #train the ML model ; xtrain=x ; ytrain=y"
   ]
  },
  {
   "cell_type": "code",
   "execution_count": 15,
   "id": "4e9d3944",
   "metadata": {},
   "outputs": [
    {
     "data": {
      "text/plain": [
       "array([202.95724409])"
      ]
     },
     "execution_count": 15,
     "metadata": {},
     "output_type": "execute_result"
    }
   ],
   "source": [
    "lr.predict([[71.730978]])"
   ]
  },
  {
   "cell_type": "code",
   "execution_count": 16,
   "id": "155498ae",
   "metadata": {},
   "outputs": [
    {
     "data": {
      "text/plain": [
       "array([5.97800913])"
      ]
     },
     "execution_count": 16,
     "metadata": {},
     "output_type": "execute_result"
    }
   ],
   "source": [
    "lr.coef_"
   ]
  },
  {
   "cell_type": "code",
   "execution_count": 17,
   "id": "86bf5e0f",
   "metadata": {},
   "outputs": [
    {
     "data": {
      "text/plain": [
       "-225.8511972451223"
      ]
     },
     "execution_count": 17,
     "metadata": {},
     "output_type": "execute_result"
    }
   ],
   "source": [
    "lr.intercept_"
   ]
  },
  {
   "cell_type": "code",
   "execution_count": 18,
   "id": "955730e9",
   "metadata": {},
   "outputs": [
    {
     "data": {
      "text/plain": [
       "array([202.95724409])"
      ]
     },
     "execution_count": 18,
     "metadata": {},
     "output_type": "execute_result"
    }
   ],
   "source": [
    "m= lr.coef_\n",
    "c= lr.intercept_\n",
    "x= 71.730978\n",
    "y= (m*x)+c\n",
    "y"
   ]
  },
  {
   "cell_type": "code",
   "execution_count": 19,
   "id": "e8d36342",
   "metadata": {},
   "outputs": [
    {
     "data": {
      "text/plain": [
       "array([215.60694467, 185.32765309, 217.17968935, ..., 215.99869634,\n",
       "       177.04283025, 208.98302947])"
      ]
     },
     "execution_count": 19,
     "metadata": {},
     "output_type": "execute_result"
    }
   ],
   "source": [
    "lr.predict(df[['Height']])"
   ]
  },
  {
   "cell_type": "code",
   "execution_count": 20,
   "id": "cb3f461b",
   "metadata": {},
   "outputs": [],
   "source": [
    "df['Predicted Weight']= lr.predict(df[['Height']])"
   ]
  },
  {
   "cell_type": "code",
   "execution_count": 21,
   "id": "13ec1cc4",
   "metadata": {},
   "outputs": [
    {
     "data": {
      "text/html": [
       "<div>\n",
       "<style scoped>\n",
       "    .dataframe tbody tr th:only-of-type {\n",
       "        vertical-align: middle;\n",
       "    }\n",
       "\n",
       "    .dataframe tbody tr th {\n",
       "        vertical-align: top;\n",
       "    }\n",
       "\n",
       "    .dataframe thead th {\n",
       "        text-align: right;\n",
       "    }\n",
       "</style>\n",
       "<table border=\"1\" class=\"dataframe\">\n",
       "  <thead>\n",
       "    <tr style=\"text-align: right;\">\n",
       "      <th></th>\n",
       "      <th>Height</th>\n",
       "      <th>Weight</th>\n",
       "      <th>Predicted Weight</th>\n",
       "    </tr>\n",
       "  </thead>\n",
       "  <tbody>\n",
       "    <tr>\n",
       "      <th>0</th>\n",
       "      <td>73.847017</td>\n",
       "      <td>241.893563</td>\n",
       "      <td>215.606945</td>\n",
       "    </tr>\n",
       "    <tr>\n",
       "      <th>1</th>\n",
       "      <td>68.781904</td>\n",
       "      <td>162.310473</td>\n",
       "      <td>185.327653</td>\n",
       "    </tr>\n",
       "    <tr>\n",
       "      <th>2</th>\n",
       "      <td>74.110105</td>\n",
       "      <td>212.740856</td>\n",
       "      <td>217.179689</td>\n",
       "    </tr>\n",
       "    <tr>\n",
       "      <th>3</th>\n",
       "      <td>71.730978</td>\n",
       "      <td>220.042470</td>\n",
       "      <td>202.957246</td>\n",
       "    </tr>\n",
       "    <tr>\n",
       "      <th>4</th>\n",
       "      <td>69.881796</td>\n",
       "      <td>206.349801</td>\n",
       "      <td>191.902816</td>\n",
       "    </tr>\n",
       "    <tr>\n",
       "      <th>...</th>\n",
       "      <td>...</td>\n",
       "      <td>...</td>\n",
       "      <td>...</td>\n",
       "    </tr>\n",
       "    <tr>\n",
       "      <th>3496</th>\n",
       "      <td>69.296830</td>\n",
       "      <td>185.649086</td>\n",
       "      <td>188.405885</td>\n",
       "    </tr>\n",
       "    <tr>\n",
       "      <th>3497</th>\n",
       "      <td>70.542201</td>\n",
       "      <td>210.198845</td>\n",
       "      <td>195.850727</td>\n",
       "    </tr>\n",
       "    <tr>\n",
       "      <th>3498</th>\n",
       "      <td>73.912549</td>\n",
       "      <td>202.429960</td>\n",
       "      <td>215.998696</td>\n",
       "    </tr>\n",
       "    <tr>\n",
       "      <th>3499</th>\n",
       "      <td>67.396021</td>\n",
       "      <td>144.277671</td>\n",
       "      <td>177.042830</td>\n",
       "    </tr>\n",
       "    <tr>\n",
       "      <th>3500</th>\n",
       "      <td>72.738970</td>\n",
       "      <td>187.222909</td>\n",
       "      <td>208.983029</td>\n",
       "    </tr>\n",
       "  </tbody>\n",
       "</table>\n",
       "<p>3501 rows × 3 columns</p>\n",
       "</div>"
      ],
      "text/plain": [
       "         Height      Weight  Predicted Weight\n",
       "0     73.847017  241.893563        215.606945\n",
       "1     68.781904  162.310473        185.327653\n",
       "2     74.110105  212.740856        217.179689\n",
       "3     71.730978  220.042470        202.957246\n",
       "4     69.881796  206.349801        191.902816\n",
       "...         ...         ...               ...\n",
       "3496  69.296830  185.649086        188.405885\n",
       "3497  70.542201  210.198845        195.850727\n",
       "3498  73.912549  202.429960        215.998696\n",
       "3499  67.396021  144.277671        177.042830\n",
       "3500  72.738970  187.222909        208.983029\n",
       "\n",
       "[3501 rows x 3 columns]"
      ]
     },
     "execution_count": 21,
     "metadata": {},
     "output_type": "execute_result"
    }
   ],
   "source": [
    "df"
   ]
  },
  {
   "cell_type": "code",
   "execution_count": 22,
   "id": "46644df4",
   "metadata": {},
   "outputs": [],
   "source": [
    "testing= lr.predict(xtest) #predicted ytest"
   ]
  },
  {
   "cell_type": "code",
   "execution_count": 23,
   "id": "90d62c04",
   "metadata": {},
   "outputs": [
    {
     "data": {
      "text/plain": [
       "array([177.08348257, 189.97931446, 167.56105707, 178.78547886,\n",
       "       163.18509437, 180.25519153, 187.5746301 , 177.29406308,\n",
       "       187.61410451, 214.82687791, 146.54705769, 205.53609201,\n",
       "       178.63524049, 182.16876965, 221.10928254, 196.04746384,\n",
       "       174.66519041, 180.50000529, 174.52687291, 219.61734596,\n",
       "       209.17973484, 180.29820038, 166.30726829, 190.45561742,\n",
       "       162.41180308, 186.69252404, 190.41647904, 179.34185839,\n",
       "       161.77205047, 181.25788043, 147.18573982, 201.08593379,\n",
       "       189.09154018, 206.86396518, 194.06129799, 163.9082029 ,\n",
       "       219.63585423, 178.135123  , 190.46824322, 161.75211608,\n",
       "       192.0001994 , 180.53363931, 191.18625621, 183.69534066,\n",
       "       193.07163212, 214.25906472, 176.83242358, 197.31231182,\n",
       "       190.08986292, 185.13039464, 181.43816242, 201.55338182,\n",
       "       173.80328673, 177.33236514, 159.2015133 , 161.11684495,\n",
       "       195.53300295, 141.6637074 , 137.1399713 , 181.00515179,\n",
       "       177.46765825, 190.22587781, 205.84453492, 171.14073066,\n",
       "       182.73685245, 190.75503546, 170.33734727, 192.98065316,\n",
       "       174.02523592, 215.9233109 , 190.62309296, 180.61068819,\n",
       "       194.08394304, 176.59301771, 160.94866275, 203.18133419,\n",
       "       198.57876016, 194.24634947, 198.39177013, 222.70207883,\n",
       "       167.48956678, 181.84028146, 200.35212695, 196.74381845,\n",
       "       241.00661145, 180.26479568, 197.16985652, 216.09778172,\n",
       "       181.48869603, 158.93338381, 200.40581622, 165.27190365,\n",
       "       184.18655373, 175.86762139, 173.71207606, 183.78198653,\n",
       "       161.10303521, 212.88079341, 144.34866887, 186.83363088,\n",
       "       214.19134033, 192.23521957, 154.02958107, 155.09580174,\n",
       "       197.95312307, 129.12686793, 156.80817705, 204.29565936,\n",
       "       204.38926452, 190.9767591 , 173.04983621, 202.95724648,\n",
       "       187.86498553, 143.43148122, 233.51503832, 194.49280975,\n",
       "       165.57847945, 199.77072503, 182.63304181, 203.67550876,\n",
       "       194.68832598, 213.6658487 , 213.13037176, 198.60873348,\n",
       "       185.34664643, 160.17919433, 151.83103425, 184.7127002 ,\n",
       "       150.76366179, 188.21643974, 169.41556935, 188.32362832,\n",
       "       192.56971058, 198.79566033, 197.37378954, 201.81138229,\n",
       "       227.79261479, 166.61161525, 167.11785907, 170.99042624,\n",
       "       179.54322296, 192.75322129, 196.71183533, 199.92429781,\n",
       "       175.29444432, 189.91641188, 176.06054424, 190.93017899,\n",
       "       198.63460702, 181.72466891, 186.57571966, 158.70564246,\n",
       "       209.83631238, 174.7799478 , 210.88029563, 195.92153821,\n",
       "       155.95181732, 195.8615257 , 189.79781176, 186.01581233,\n",
       "       184.80807616, 170.09568577, 196.94516473, 184.84486758,\n",
       "       195.49222247, 195.6338803 , 195.29281677, 198.63850564,\n",
       "       160.37660571, 199.42908623, 196.15874669, 168.24881136,\n",
       "       187.77607179, 183.09154381, 136.89330513, 195.17086173,\n",
       "       171.41405887, 193.4281136 , 171.51469309, 178.01801296,\n",
       "       184.78048114, 160.82382016, 177.10949032, 211.14650828,\n",
       "       177.79065756, 176.83983793, 213.98259256, 148.93006507,\n",
       "       186.28266725, 185.24838822, 180.7931552 , 208.4994181 ,\n",
       "       155.03736348, 183.87544128, 159.35602086, 175.85613698,\n",
       "       183.22882992, 202.2254265 , 178.32106502, 200.09980116,\n",
       "       188.33793011, 205.82175793, 201.37142389, 188.73442216,\n",
       "       201.2998942 , 192.51621457, 195.89228387, 176.35838456,\n",
       "       167.23577392, 189.75534327, 179.31281315, 189.98686852,\n",
       "       206.45944352, 184.22623642, 207.82940845, 187.27047145,\n",
       "       178.86216105, 230.23613199, 175.1148208 , 188.40051723,\n",
       "       142.54876283, 174.10620238, 181.64479751, 178.01891827,\n",
       "       205.26039143, 191.23191481, 188.13057264, 180.83405268,\n",
       "       173.0947793 , 177.35489973, 205.92087045, 177.27720946,\n",
       "       182.85372731, 192.83157398, 187.2705833 , 186.83507415,\n",
       "       186.71114955, 173.85666485, 200.76102462, 193.23585502,\n",
       "       172.69506086, 188.20220861, 180.08205506, 195.37135926,\n",
       "       177.98841542, 167.00114508, 231.30437676, 186.89366773,\n",
       "       205.76636653, 165.82521963, 177.68215263, 210.07340124,\n",
       "       168.41200527, 218.92267655, 183.68914571, 200.77478032,\n",
       "       204.30616924, 187.79892865, 218.95142766, 161.95762192,\n",
       "       176.15618276, 190.8067612 , 214.70929997, 192.29919975,\n",
       "       180.64391409, 210.99388139, 174.96057663, 203.13291225,\n",
       "       178.80879028, 167.53776113, 193.03877722, 170.31300559,\n",
       "       182.51894343, 200.96256722, 167.83716816, 210.46617473,\n",
       "       215.57626182, 161.25601898, 153.24178361, 205.35920738,\n",
       "       212.3480254 , 202.02315243, 170.29387136, 184.68236079,\n",
       "       179.68490076, 191.61623785, 197.96563367, 190.28640694,\n",
       "       191.17528627, 181.67264218, 188.00445655, 194.99989396,\n",
       "       198.98741729, 177.19360461, 167.35628862, 161.32250956,\n",
       "       200.49699479, 195.23511182, 178.07322633, 202.86470433,\n",
       "       191.45144578, 206.36070343, 160.80781607, 163.42781583,\n",
       "       193.37395379, 176.30228775, 166.93219137, 186.36409664,\n",
       "       210.31430502, 186.36442436, 176.37022436, 216.6754169 ,\n",
       "       186.18492824, 201.26351575, 216.44887253, 195.54178303,\n",
       "       187.17282025, 170.89456551, 203.94999198, 197.78529447,\n",
       "       189.96747203, 187.11365781, 181.58280352, 189.08962255,\n",
       "       170.95955161, 195.44974841, 198.39367652, 178.27813664,\n",
       "       175.72823365, 164.34279968, 188.26230895, 187.66907709,\n",
       "       179.93849682, 199.34715337, 198.84663541, 166.70957019,\n",
       "       139.2526442 , 190.21092675, 161.79377049, 180.48437137,\n",
       "       208.72172202, 230.0835955 , 184.00701224, 222.76249038,\n",
       "       165.88090544, 211.52434003, 180.60627971, 180.93317028,\n",
       "       193.17207355, 202.14934103, 191.64493236, 172.13408341,\n",
       "       194.47275341, 177.72987758, 188.38142323, 201.32934911,\n",
       "       213.71351663, 211.39938685, 223.37770416, 162.25512161,\n",
       "       199.16201592, 222.23086555, 198.54646511, 170.53307578,\n",
       "       182.01024779, 205.74618866, 181.62273698, 188.08134236,\n",
       "       183.39071812, 178.20344548, 198.42415641, 188.86817168,\n",
       "       172.49159286, 178.11559613, 174.9603845 , 182.67540682,\n",
       "       201.14943782, 170.57794791, 189.93154132, 161.41967523,\n",
       "       190.03758074, 191.14546892, 189.70773716, 199.20995991,\n",
       "       202.14306902, 174.17823715, 164.38905536, 143.37760369,\n",
       "       192.39907943, 199.61226791, 170.21362287, 206.32743868,\n",
       "       183.8877787 , 213.00712052, 177.80984936, 220.62892416,\n",
       "       149.01175989, 152.39628006, 197.78410281, 198.18842038,\n",
       "       186.64437674, 172.45419808, 205.93981692, 185.09895282,\n",
       "       181.56527528, 193.87888179, 178.72146161, 194.400366  ,\n",
       "       192.7973943 , 197.7732483 , 180.27085995, 167.62122944,\n",
       "       184.96122744, 215.64667249, 226.58131937, 190.25545245,\n",
       "       179.16953863, 171.61007875, 201.31738215, 162.1800915 ,\n",
       "       176.80716016, 172.80425392, 197.53916351, 192.58949133,\n",
       "       181.42453041, 203.36219843, 200.64273608, 176.41367319,\n",
       "       182.08064567, 197.62568653, 183.99126599, 173.85478357,\n",
       "       214.62325813, 172.73619046, 205.74450376, 178.36015744,\n",
       "       159.63488806, 174.91806037, 191.90281638, 185.01796024,\n",
       "       177.33587166, 184.66638575, 181.38733392, 203.46613892,\n",
       "       207.09273127, 216.84337098, 193.17696452, 160.02314678,\n",
       "       179.30759662, 176.29913334, 187.12429173, 188.66196737,\n",
       "       202.39528475, 183.31101864, 162.35542758, 168.78365738,\n",
       "       206.24169639, 157.31722199, 207.32447818, 183.01712985,\n",
       "       182.94314499, 182.92492438, 199.7107873 , 187.5698731 ,\n",
       "       198.48148002, 197.5072474 , 190.29589339, 160.71814964,\n",
       "       184.33475342, 171.46788158, 193.00357003, 221.55197133,\n",
       "       187.454505  , 181.70738517, 182.01410564, 172.04951771,\n",
       "       195.25033076, 185.344469  , 190.03384772, 224.19034946,\n",
       "       152.09542623, 198.85500313, 210.48916257, 207.91802425,\n",
       "       179.43676209, 169.17540086, 166.56077001, 187.95058997,\n",
       "       171.46765531, 204.32961517, 205.58058669, 199.79297434,\n",
       "       181.62690539, 202.65457617, 149.59282818, 206.88235132,\n",
       "       168.61949945, 179.06160454, 156.61382385, 190.57544524,\n",
       "       166.93254067, 198.4447231 , 161.98292187, 195.78900205,\n",
       "       163.93580552, 180.07559128, 158.94998241, 179.301117  ,\n",
       "       213.31012051, 181.7933343 , 170.51494543, 154.43996578,\n",
       "       183.42964578, 161.54496976, 140.66531549, 163.88138436,\n",
       "       200.92762917, 183.06690228, 212.28610943, 210.9957445 ,\n",
       "       194.87235128, 195.85335472, 232.16919185, 175.53768981,\n",
       "       205.69785018, 203.62875637, 169.69253595, 187.65105022,\n",
       "       190.14219835, 188.38996909, 139.5356523 , 189.99844039,\n",
       "       182.33324537, 202.79344252, 191.74874192, 188.64495486,\n",
       "       174.00479741, 150.45820669, 180.43184947, 172.40930658,\n",
       "       191.23540209, 169.40737212, 204.37599095, 176.92539041,\n",
       "       206.41424828, 198.57593992, 182.89237263, 199.77298687,\n",
       "       198.36011263, 192.50118932, 216.72830399, 193.63454334,\n",
       "       169.26124692, 180.94354081, 168.29331249, 186.89572464,\n",
       "       180.86698123, 213.28847617, 192.62127916, 170.79766587,\n",
       "       165.44450043, 191.97465848, 197.10497653, 194.54328741,\n",
       "       186.70709783, 163.9540519 , 203.80376641, 201.09253345,\n",
       "       180.74312961, 189.26626375, 189.26377893, 192.90656255,\n",
       "       166.07828418, 185.39389165, 175.5394156 , 199.46445775,\n",
       "       185.8123713 , 154.1187007 , 190.98823502, 189.45960709,\n",
       "       199.43063645, 179.08270966, 186.41344128, 193.55562704,\n",
       "       188.30350114, 173.02954996, 210.92183736, 175.2207204 ,\n",
       "       175.40176076, 154.32899385, 186.11884487, 196.75722886,\n",
       "       186.341709  , 183.38558313, 205.2979188 , 215.9456179 ,\n",
       "       172.77585879, 163.60825211, 179.48168001, 194.92942375,\n",
       "       209.43100061, 149.28607746, 199.75544799, 172.41382494,\n",
       "       175.88275048, 243.59116161, 164.07698434, 190.69086087,\n",
       "       144.41068671, 215.41785229, 195.11994326, 199.7626491 ,\n",
       "       188.6781022 , 207.55898777, 215.01950963, 174.90775112,\n",
       "       192.76516267, 190.25340433, 169.1930327 , 218.91661616,\n",
       "       212.73077084, 153.39518129, 197.27788458, 195.46448696,\n",
       "       169.12701246, 160.41173895, 190.4246386 , 172.98615888,\n",
       "       182.26159325, 217.43649936, 205.04490327, 148.4915264 ,\n",
       "       194.42773261, 185.78528864, 175.89054293, 198.36846946,\n",
       "       166.45568552, 175.28827716, 160.94997133, 148.80550202,\n",
       "       200.31416223, 188.99212588, 201.00896524, 158.90829739,\n",
       "       172.45010189, 184.15984794, 199.28195589, 174.28475445,\n",
       "       192.05396866, 166.26049396, 175.39483428, 197.61398332,\n",
       "       199.83801589, 182.54991645, 213.9813208 , 212.96669943,\n",
       "       162.99106086, 190.75535295, 214.14824821, 216.43719688,\n",
       "       189.41634083, 186.75405988, 153.24524338, 182.18592199,\n",
       "       195.4949155 , 197.48677906, 180.62473096, 203.91185246,\n",
       "       185.15959135, 193.19072936, 175.3356701 , 176.50812161,\n",
       "       189.14167248, 181.06544055, 167.31360157, 185.95213207,\n",
       "       215.99869634, 205.67732361, 154.96749496, 201.35503506,\n",
       "       180.49411181, 179.58391748, 204.2533378 , 218.55914771,\n",
       "       196.89830097, 183.89032067, 206.11445303, 200.69893624,\n",
       "       197.28560889, 182.19005298, 213.50175349, 186.81712668,\n",
       "       197.98676085, 203.25661932, 198.90164882, 202.89527372,\n",
       "       184.8481745 , 190.11129898, 191.91270992, 208.72390782,\n",
       "       181.6573417 ])"
      ]
     },
     "execution_count": 23,
     "metadata": {},
     "output_type": "execute_result"
    }
   ],
   "source": [
    "testing "
   ]
  },
  {
   "cell_type": "code",
   "execution_count": 24,
   "id": "a5e614d2",
   "metadata": {},
   "outputs": [
    {
     "data": {
      "text/plain": [
       "719     192.672676\n",
       "2296    187.491501\n",
       "3083    191.563495\n",
       "1296    177.909685\n",
       "2234    165.313807\n",
       "           ...    \n",
       "1263    193.509269\n",
       "1144    193.367198\n",
       "3063    181.674739\n",
       "1854    220.866365\n",
       "1409    201.438831\n",
       "Name: Weight, Length: 701, dtype: float64"
      ]
     },
     "execution_count": 24,
     "metadata": {},
     "output_type": "execute_result"
    }
   ],
   "source": [
    "ytest #actual result"
   ]
  },
  {
   "cell_type": "code",
   "execution_count": 25,
   "id": "ec5e0679",
   "metadata": {},
   "outputs": [],
   "source": [
    "xtest['Predicted testing']=  lr.predict(xtest)"
   ]
  },
  {
   "cell_type": "code",
   "execution_count": 26,
   "id": "2d06cb3d",
   "metadata": {},
   "outputs": [
    {
     "data": {
      "text/html": [
       "<div>\n",
       "<style scoped>\n",
       "    .dataframe tbody tr th:only-of-type {\n",
       "        vertical-align: middle;\n",
       "    }\n",
       "\n",
       "    .dataframe tbody tr th {\n",
       "        vertical-align: top;\n",
       "    }\n",
       "\n",
       "    .dataframe thead th {\n",
       "        text-align: right;\n",
       "    }\n",
       "</style>\n",
       "<table border=\"1\" class=\"dataframe\">\n",
       "  <thead>\n",
       "    <tr style=\"text-align: right;\">\n",
       "      <th></th>\n",
       "      <th>Height</th>\n",
       "      <th>Predicted testing</th>\n",
       "    </tr>\n",
       "  </thead>\n",
       "  <tbody>\n",
       "    <tr>\n",
       "      <th>719</th>\n",
       "      <td>67.402821</td>\n",
       "      <td>177.083483</td>\n",
       "    </tr>\n",
       "    <tr>\n",
       "      <th>2296</th>\n",
       "      <td>69.560033</td>\n",
       "      <td>189.979314</td>\n",
       "    </tr>\n",
       "    <tr>\n",
       "      <th>3083</th>\n",
       "      <td>65.809912</td>\n",
       "      <td>167.561057</td>\n",
       "    </tr>\n",
       "    <tr>\n",
       "      <th>1296</th>\n",
       "      <td>67.687531</td>\n",
       "      <td>178.785479</td>\n",
       "    </tr>\n",
       "    <tr>\n",
       "      <th>2234</th>\n",
       "      <td>65.077902</td>\n",
       "      <td>163.185094</td>\n",
       "    </tr>\n",
       "  </tbody>\n",
       "</table>\n",
       "</div>"
      ],
      "text/plain": [
       "         Height  Predicted testing\n",
       "719   67.402821         177.083483\n",
       "2296  69.560033         189.979314\n",
       "3083  65.809912         167.561057\n",
       "1296  67.687531         178.785479\n",
       "2234  65.077902         163.185094"
      ]
     },
     "execution_count": 26,
     "metadata": {},
     "output_type": "execute_result"
    }
   ],
   "source": [
    "xtest.head()"
   ]
  },
  {
   "cell_type": "code",
   "execution_count": 27,
   "id": "20315ef4",
   "metadata": {},
   "outputs": [],
   "source": [
    "xtest= xtest[['Height']]"
   ]
  },
  {
   "cell_type": "code",
   "execution_count": 28,
   "id": "85a767a4",
   "metadata": {},
   "outputs": [],
   "source": [
    "from sklearn.metrics import mean_squared_error #mse\n",
    "pred= lr.predict(xtest)\n",
    "mse= mean_squared_error(ytest, pred) #testing error"
   ]
  },
  {
   "cell_type": "code",
   "execution_count": 29,
   "id": "726f0df2",
   "metadata": {},
   "outputs": [
    {
     "data": {
      "text/plain": [
       "106.01679593408504"
      ]
     },
     "execution_count": 29,
     "metadata": {},
     "output_type": "execute_result"
    }
   ],
   "source": [
    "mse"
   ]
  },
  {
   "cell_type": "code",
   "execution_count": 30,
   "id": "114e1fe3",
   "metadata": {},
   "outputs": [],
   "source": [
    "from sklearn.metrics import mean_absolute_error"
   ]
  },
  {
   "cell_type": "code",
   "execution_count": 31,
   "id": "29039200",
   "metadata": {},
   "outputs": [
    {
     "data": {
      "text/plain": [
       "8.336615810349368"
      ]
     },
     "execution_count": 31,
     "metadata": {},
     "output_type": "execute_result"
    }
   ],
   "source": [
    "mean_absolute_error(ytest, pred) #MAE"
   ]
  },
  {
   "cell_type": "code",
   "execution_count": 32,
   "id": "68ad36bb",
   "metadata": {},
   "outputs": [
    {
     "data": {
      "text/plain": [
       "Text(0, 0.5, 'Weight')"
      ]
     },
     "execution_count": 32,
     "metadata": {},
     "output_type": "execute_result"
    },
    {
     "data": {
      "image/png": "[encoded data removed]",
      "text/plain": [
       "<Figure size 864x576 with 1 Axes>"
      ]
     },
     "metadata": {
      "needs_background": "light"
     },
     "output_type": "display_data"
    }
   ],
   "source": [
    "plt.figure(figsize=(12,8))\n",
    "plt.scatter(df[['Height']], df['Weight'], marker='+')\n",
    "plt.plot(df[['Height']] , lr.predict(df[['Height']]), color='red')\n",
    "plt.title('Height vs Weight')\n",
    "plt.xlabel('Height')\n",
    "plt.ylabel('Weight')"
   ]
  },
  {
   "cell_type": "code",
   "execution_count": 33,
   "id": "4297e9d2",
   "metadata": {},
   "outputs": [
    {
     "data": {
      "text/plain": [
       "0.7437517146778504"
      ]
     },
     "execution_count": 33,
     "metadata": {},
     "output_type": "execute_result"
    }
   ],
   "source": [
    "lr.score(xtest, ytest) # R Squared Value"
   ]
  },
  {
   "cell_type": "code",
   "execution_count": 34,
   "id": "e0951a50",
   "metadata": {},
   "outputs": [
    {
     "data": {
      "text/plain": [
       "0.729271763964062"
      ]
     },
     "execution_count": 34,
     "metadata": {},
     "output_type": "execute_result"
    }
   ],
   "source": [
    "lr.score(xtrain, ytrain) # R Squared Value"
   ]
  },
  {
   "cell_type": "code",
   "execution_count": 35,
   "id": "f23ff6bb",
   "metadata": {},
   "outputs": [
    {
     "data": {
      "text/plain": [
       "0.7323178174877905"
      ]
     },
     "execution_count": 35,
     "metadata": {},
     "output_type": "execute_result"
    }
   ],
   "source": [
    "lr.score(df[['Height']], df['Weight'])"
   ]
  },
  {
   "cell_type": "code",
   "execution_count": null,
   "id": "96278139",
   "metadata": {},
   "outputs": [],
   "source": []
  }
 ],
 "metadata": {
  "kernelspec": {
   "display_name": "Python 3 (ipykernel)",
   "language": "python",
   "name": "python3"
  },
  "language_info": {
   "codemirror_mode": {
    "name": "ipython",
    "version": 3
   },
   "file_extension": ".py",
   "mimetype": "text/x-python",
   "name": "python",
   "nbconvert_exporter": "python",
   "pygments_lexer": "ipython3",
   "version": "3.9.7"
  }
 },
 "nbformat": 4,
 "nbformat_minor": 5
}
